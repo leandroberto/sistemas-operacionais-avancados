{
  "cells": [
    {
      "cell_type": "code",
      "execution_count": 10,
      "metadata": {
        "id": "83ea5dfb"
      },
      "outputs": [],
      "source": [
        "#--------------------------------------#\n",
        "# Simulador de Substituição de Páginas #\n",
        "# utilizando os algoritmos LRU e FIFO  #\n",
        "# Autor: Leandro Santos                #\n",
        "# Data: 09/06/2022                     #\n",
        "#--------------------------------------# \n",
        "\n",
        "#Importar Bibliotecas\n",
        "import pandas as pd\n",
        "import numpy as np\n",
        "import math\n",
        "from termcolor import colored\n",
        "from IPython.display import clear_output\n",
        "pd.set_option('display.max_rows', 500)\n",
        "pd.set_option('display.max_columns', 500)\n",
        "pd.set_option('display.width', 1000)"
      ],
      "id": "83ea5dfb"
    },
    {
      "cell_type": "code",
      "execution_count": 2,
      "metadata": {
        "colab": {
          "base_uri": "https://localhost:8080/"
        },
        "id": "44GSy8CTqYbq",
        "outputId": "f4b17e06-f53c-46cd-942e-84158815106c"
      },
      "outputs": [
        {
          "output_type": "stream",
          "name": "stdout",
          "text": [
            "Mounted at /content/gdrive\n"
          ]
        }
      ],
      "source": [
        "#Parâmtros de Entrada\n",
        "#fila = pd.read_csv('./arquivo.csv', sep=\";\") #Leitura de arquivo local\n",
        "#Abrir arquivo pelo google Drive\n",
        "from google.colab import drive \n",
        "drive.mount('/content/gdrive')\n",
        "fila=pd.read_csv('gdrive/My Drive/Sistemas operacionais Avançado/input.csv', sep=\";\")"
      ],
      "id": "44GSy8CTqYbq"
    },
    {
      "cell_type": "code",
      "execution_count": 3,
      "metadata": {
        "id": "3de97f93"
      },
      "outputs": [],
      "source": [
        "#Funções\n",
        "def verificaPageFault(pagina,listaPaginas): #Verifica se a pagina informada está alocada na MP\n",
        "    return np.isnan(listaPaginas.MP[pagina]) \n",
        "def getFirstMP (memoriaPrincipal): #Retorna o Primeiro Frame Livre da MP\n",
        "    first_empty_row = memoriaPrincipal.index[memoriaPrincipal.iloc[:, 0].isnull().values]\n",
        "    return first_empty_row[0]\n",
        "def verifMP (memoriaPrincipal): #Retorna a quantidade de espaço livre na MP\n",
        "    return memoriaPrincipal.Pagina.isna().sum()\n",
        "    \n"
      ],
      "id": "3de97f93"
    },
    {
      "cell_type": "code",
      "execution_count": 4,
      "metadata": {
        "id": "dd808414"
      },
      "outputs": [],
      "source": [
        "#FIFO\n",
        "def fifo():\n",
        "  #Listas e Variaveis\n",
        "  tamanhoMP = int(input(\"Digite o tamanho da memoria principal: \"))\n",
        "  listaPaginas = pd.DataFrame([],index=pd.unique(fila.Pagina), columns=['MP'])\n",
        "  listaPaginas = listaPaginas.sort_index()\n",
        "  memoriaPrincipal = pd.DataFrame([], index=range(0,tamanhoMP), columns=['Pagina'])\n",
        "  lista_substituicao = []\n",
        "  logHeader = memoriaPrincipal.index.values.tolist()\n",
        "  logHeader.extend(['Pagina Sub','Page Fault','Tempo'])\n",
        "  log = pd.DataFrame([], index=logHeader)\n",
        "  tempo = 0\n",
        "  countPageFault = 0\n",
        "  for pagina_atual,operacao in zip(fila.Pagina, fila.Operacao):\n",
        "      pageFault = verificaPageFault(pagina_atual,listaPaginas) #Verifica se está alocada na MP\n",
        "      if pageFault:        \n",
        "          if verifMP(memoriaPrincipal) != 0 : #Verifica se a memoria principal não está lotada\n",
        "              memoriaAlocar = getFirstMP(memoriaPrincipal) #Pega a primeira memoria disponivel\n",
        "              memoriaPrincipal.Pagina[memoriaAlocar] = pagina_atual #Aloca a pagina na MP\n",
        "              listaPaginas.MP[pagina_atual] = memoriaAlocar #Referencia a MP na tabela de paginas\n",
        "              lista_substituicao.append(pagina_atual)            \n",
        "          else:\n",
        "              #Processo de substituição de Paginas na Memória\n",
        "              pagina_substituir = lista_substituicao.pop(0)                      \n",
        "              listaPaginas.MP[pagina_substituir] = np.nan #Remove a pagina a ser substituida da tabela de paginas\n",
        "              mp_subistituida = memoriaPrincipal[memoriaPrincipal['Pagina']==pagina_substituir].index.values #Pega a posicao da memoria a ser substituida\n",
        "              mp_subistituida = mp_subistituida[0]\n",
        "              memoriaPrincipal.Pagina[mp_subistituida] = pagina_atual #Aloca a pagina na MP\n",
        "              listaPaginas.MP[pagina_atual] = mp_subistituida #Referencia a MP na tabela de paginas\n",
        "              lista_substituicao.append(pagina_atual)     \n",
        "          countPageFault += 1\n",
        "\n",
        "      logTime = []\n",
        "      logTime.extend(memoriaPrincipal.Pagina)\n",
        "      logTime.append(lista_substituicao[0])\n",
        "      logTime.append(pageFault)\n",
        "      logTime.append(tempo)\n",
        "      log.insert((log.shape[1]),pagina_atual,logTime,True)\n",
        "      tempo += 1\n",
        "\n",
        "  print(\"\")\n",
        "  print(\"############# FILA #############\",sep='\\n')\n",
        "  print(fila.Pagina) \n",
        "  print(\"\")   \n",
        "  print(\"############# LOG #############\",sep='\\n')\n",
        "  print(log)\n",
        "  print(\"\")\n",
        "  print(colored('Quantidade total de Page Fault: '+str(countPageFault),'red'))\n",
        "  print(\"\")\n",
        "  print(\"############# M.P #############\",sep='-')\n",
        "  print(memoriaPrincipal)\n",
        "  print(\"\")\n",
        "  print(\"##### Tabela de Paginas #####\",sep='\\n')\n",
        "  print(listaPaginas)\n",
        "  input(\"Pressione Enter para voltar ao Menu Principal\"),"
      ],
      "id": "dd808414"
    },
    {
      "cell_type": "code",
      "execution_count": 5,
      "metadata": {
        "id": "PQUofFVAy1Fb"
      },
      "outputs": [],
      "source": [
        "#LRU\n",
        "def lru():\n",
        "  #Listas e Variaveis\n",
        "  tamanhoMP = int(input(\"Digite o tamanho da memoria principal: \"))\n",
        "  listaPaginas = pd.DataFrame([],index=pd.unique(fila.Pagina), columns=['MP'])\n",
        "  listaPaginas = listaPaginas.sort_index()\n",
        "  memoriaPrincipal = pd.DataFrame([], index=range(0,tamanhoMP), columns=['Pagina'])\n",
        "  lista_substituicao = []\n",
        "  logHeader = memoriaPrincipal.index.values.tolist()\n",
        "  logHeader.extend(['Pagina Sub','Page Fault','Tempo'])\n",
        "  log = pd.DataFrame([], index=logHeader)\n",
        "  tempo = 0\n",
        "  countPageFault = 0\n",
        "  for pagina_atual,operacao in zip(fila.Pagina, fila.Operacao):\n",
        "      pageFault = verificaPageFault(pagina_atual,listaPaginas) #Verifica se está alocada na MP\n",
        "      if pageFault:        \n",
        "          if verifMP(memoriaPrincipal) != 0 : #Verifica se a memoria principal não está lotada\n",
        "              memoriaAlocar = getFirstMP(memoriaPrincipal) #Pega a primeira memoria disponivel\n",
        "              memoriaPrincipal.Pagina[memoriaAlocar] = pagina_atual #Aloca a pagina na MP\n",
        "              listaPaginas.MP[pagina_atual] = memoriaAlocar #Referencia a MP na tabela de paginas\n",
        "              lista_substituicao.append(pagina_atual)            \n",
        "          else:\n",
        "              #Processo de substituição de Paginas na Memória\n",
        "              pagina_substituir = lista_substituicao.pop(0)                      \n",
        "              listaPaginas.MP[pagina_substituir] = np.nan #Remove a pagina a ser substituida da tabela de paginas\n",
        "              mp_subistituida = memoriaPrincipal[memoriaPrincipal['Pagina']==pagina_substituir].index.values #Pega a posicao da memoria a ser substituida\n",
        "              mp_subistituida = mp_subistituida[0]\n",
        "              memoriaPrincipal.Pagina[mp_subistituida] = pagina_atual #Aloca a pagina na MP\n",
        "              listaPaginas.MP[pagina_atual] = mp_subistituida #Referencia a MP na tabela de paginas\n",
        "              lista_substituicao.append(pagina_atual)     \n",
        "          countPageFault += 1\n",
        "      else:      \n",
        "        lista_substituicao.remove(pagina_atual)\n",
        "        lista_substituicao.append(pagina_atual)\n",
        "      logTime = []\n",
        "      logTime.extend(memoriaPrincipal.Pagina)\n",
        "      logTime.append(lista_substituicao[0])\n",
        "      logTime.append(pageFault)\n",
        "      logTime.append(tempo)\n",
        "      log.insert((log.shape[1]),pagina_atual,logTime,True)\n",
        "      tempo += 1\n",
        "\n",
        "  print(\"\")\n",
        "  print(\"############# FILA #############\",sep='\\n')\n",
        "  print(fila.Pagina) \n",
        "  print(\"\")   \n",
        "  print(\"############# LOG #############\",sep='\\n')\n",
        "  print(log)\n",
        "  print(\"\")\n",
        "  print(colored('Quantidade total de Page Fault: '+str(countPageFault),'red'))\n",
        "  print(\"\")\n",
        "  print(\"############# M.P #############\",sep='-')\n",
        "  print(memoriaPrincipal)\n",
        "  print(\"\")\n",
        "  print(\"##### Tabela de Paginas #####\",sep='\\n')\n",
        "  print(listaPaginas)\n",
        "  input(\"Pressione Enter para voltar ao Menu Principal\")"
      ],
      "id": "PQUofFVAy1Fb"
    },
    {
      "cell_type": "code",
      "execution_count": 9,
      "metadata": {
        "colab": {
          "base_uri": "https://localhost:8080/"
        },
        "id": "f4XN1P8U5Ljs",
        "outputId": "7603fa2b-dc47-4c7a-ae18-754d6453d313"
      },
      "outputs": [
        {
          "name": "stdout",
          "output_type": "stream",
          "text": [
            "SIMULADOR DE SUBSTITUIÇÃO DE PÁGINAS\n",
            "\n",
            "          1.FIFO\n",
            "          2.LRU\n",
            "          3.Exit/Quit\n",
            "          \n",
            "Digite o numero da opção desejada: 3\n"
          ]
        }
      ],
      "source": [
        "def main():\n",
        "    app = True\n",
        "    while app:\n",
        "      clear_output(wait=True)\n",
        "      #Tela Inicial\n",
        "      print('SIMULADOR DE SUBSTITUIÇÃO DE PÁGINAS')\n",
        "      print (\"\"\"\n",
        "          1.FIFO\n",
        "          2.LRU\n",
        "          3.Exit/Quit\n",
        "          \"\"\")\n",
        "      opcao = int(input('Digite o numero da opção desejada: '))\n",
        "      if opcao == 1 :\n",
        "        fifo()\n",
        "        clear_output(wait=True)\n",
        "      else:\n",
        "        if opcao == 2 :\n",
        "          lru()\n",
        "          clear_output(wait=True)\n",
        "        else:\n",
        "          if opcao == 3 :\n",
        "            app = False\n",
        "          else:\n",
        "            print('Opção Invalida, digite a opção de acordo com o menu!')       \n",
        "\n",
        "if __name__== \"__main__\" :\n",
        "  main()    "
      ],
      "id": "f4XN1P8U5Ljs"
    }
  ],
  "metadata": {
    "colab": {
      "collapsed_sections": [],
      "name": "Simulador_Paginas.ipynb",
      "provenance": []
    },
    "kernelspec": {
      "display_name": "Python 3 (ipykernel)",
      "language": "python",
      "name": "python3"
    },
    "language_info": {
      "codemirror_mode": {
        "name": "ipython",
        "version": 3
      },
      "file_extension": ".py",
      "mimetype": "text/x-python",
      "name": "python",
      "nbconvert_exporter": "python",
      "pygments_lexer": "ipython3",
      "version": "3.9.7"
    }
  },
  "nbformat": 4,
  "nbformat_minor": 5
}